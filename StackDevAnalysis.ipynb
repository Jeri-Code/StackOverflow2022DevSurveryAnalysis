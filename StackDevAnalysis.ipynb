{
 "cells": [
  {
   "attachments": {},
   "cell_type": "markdown",
   "metadata": {},
   "source": [
    "# Stack Overflow Developer Survey 2022 Analysis"
   ]
  },
  {
   "attachments": {},
   "cell_type": "markdown",
   "metadata": {},
   "source": [
    "### *Motivation*\n",
    "As a fresh out of college data analyst student, I was curious about the fast evolving state of the career path I was entering. Computer Science is beautiufl in this very way. This ever changing and evolving breadth of the field invites a lifetime of exploration and learning. That being said, I was interested in exploring the survey adminstered by the token computer science website, stackoverflow. Their annual developer surveys provides a rich source of data insights from an extremely large community of developers."
   ]
  },
  {
   "attachments": {},
   "cell_type": "markdown",
   "metadata": {},
   "source": [
    "### *Dataset Description* \n",
    "The enclosed data set is the complete, cleaned results of the 2022 Stack Overflow Developer Survey. Free response submissions and personally-identifying information have been removed from the results to protect the privacy of respondents. There are three files:\n",
    "\n",
    "> 1. survey_results_public.csv - CSV file with main survey results, one respondent per row and one column per answer\n",
    "\n",
    "> 2. survey_results_schema.csv - CSV file with survey schema, i.e., the questions that correspond to each column name\n",
    "\n",
    "> 3. so_survey_2022.pdf - PDF file of the survey instrument\n",
    "\n",
    "The survey was fielded from May 11, 2022 to June 1, 2022. The median time spent on the survey for qualified responses was 15.08 minutes.\n",
    "\n",
    "Respondents were recruited primarily through channels owned by Stack Overflow. The top 5 sources of respondents were onsite messaging, blog posts, email lists, Meta posts, banner ads, and social media posts. Since respondents were recruited in this way, highly engaged users on Stack Overflow were more likely to notice the links for the survey and click to begin it.\n",
    "\n",
    "As an incentive, respondents who finished the survey could opt into a \"Census\" badge if they completed the survey.\n"
   ]
  },
  {
   "attachments": {},
   "cell_type": "markdown",
   "metadata": {},
   "source": [
    "### *Guiding Analysis Questions*\n",
    "\n",
    "- How much does a remote based job matter to developers/employees?\n",
    "\n",
    "- How does experience and/or education affect a developers salary?\n",
    "\n",
    "- How are people learning to code?\n"
   ]
  },
  {
   "cell_type": "code",
   "execution_count": null,
   "metadata": {},
   "outputs": [],
   "source": []
  },
  {
   "cell_type": "code",
   "execution_count": null,
   "metadata": {},
   "outputs": [],
   "source": []
  },
  {
   "cell_type": "code",
   "execution_count": null,
   "metadata": {},
   "outputs": [],
   "source": []
  }
 ],
 "metadata": {
  "language_info": {
   "name": "python"
  },
  "orig_nbformat": 4
 },
 "nbformat": 4,
 "nbformat_minor": 2
}
